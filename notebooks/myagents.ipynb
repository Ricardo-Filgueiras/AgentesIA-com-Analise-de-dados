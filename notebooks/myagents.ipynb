{
 "cells": [
  {
   "cell_type": "markdown",
   "id": "7c7220ee",
   "metadata": {},
   "source": [
    "# Carregando e visualizando dados no Google Colab"
   ]
  },
  {
   "cell_type": "markdown",
   "id": "005273c7",
   "metadata": {},
   "source": [
    "Vamos começar entendendo como um LLM (grande modelo de linguagem) pode nos auxiliar, por exemplo, gerando um código para analisar um arquivo. Iniciaremos no Google Colab carregando os dados da empresa. Para isso, importaremos a biblioteca Pandas, voltada para análise de dados, com o comando:"
   ]
  },
  {
   "cell_type": "code",
   "execution_count": 60,
   "id": "ea640272",
   "metadata": {},
   "outputs": [],
   "source": [
    "import pandas as pd\n",
    "from dotenv import load_dotenv\n",
    "import os\n",
    "from langchain_experimental.agents import create_pandas_dataframe_agent\n",
    "from langchain.prompts import PromptTemplate\n",
    "from langchain_core.prompts import MessagesPlaceholder\n",
    "from langchain_core.messages import ToolMessage\n",
    "from langchain_core.runnables import RunnablePassthrough\n",
    "from operator import itemgetter\n",
    "from langchain_core.output_parsers import StrOutputParser\n",
    "from IPython.display import display, Markdown\n",
    "from langchain.agents import Tool\n",
    "from langchain import hub\n",
    "\n",
    "import matplotlib.pyplot as plt\n",
    "import seaborn as sns\n",
    "\n",
    "\n",
    "load_dotenv()\n",
    " \n",
    "GOOGLE_API_KEY = str(os.getenv(\"GOOGLE_API_KEY\"))"
   ]
  },
  {
   "cell_type": "code",
   "execution_count": 2,
   "id": "429163a0",
   "metadata": {},
   "outputs": [
    {
     "name": "stdout",
     "output_type": "stream",
     "text": [
      "Google API Key: 39\n"
     ]
    }
   ],
   "source": [
    "print(\"Google API Key:\", len(GOOGLE_API_KEY))"
   ]
  },
  {
   "cell_type": "code",
   "execution_count": 39,
   "id": "ebfa51aa",
   "metadata": {},
   "outputs": [],
   "source": [
    "url = 'https://raw.githubusercontent.com/Ricardo-Filgueiras/AgentesIA-com-Analise-de-dados/refs/heads/main/database/dados_entregas.csv' "
   ]
  },
  {
   "cell_type": "code",
   "execution_count": 40,
   "id": "b0241a87",
   "metadata": {},
   "outputs": [],
   "source": [
    "df = pd.read_csv(url)"
   ]
  },
  {
   "cell_type": "code",
   "execution_count": 41,
   "id": "b13a3f21",
   "metadata": {},
   "outputs": [
    {
     "data": {
      "text/html": [
       "<div>\n",
       "<style scoped>\n",
       "    .dataframe tbody tr th:only-of-type {\n",
       "        vertical-align: middle;\n",
       "    }\n",
       "\n",
       "    .dataframe tbody tr th {\n",
       "        vertical-align: top;\n",
       "    }\n",
       "\n",
       "    .dataframe thead th {\n",
       "        text-align: right;\n",
       "    }\n",
       "</style>\n",
       "<table border=\"1\" class=\"dataframe\">\n",
       "  <thead>\n",
       "    <tr style=\"text-align: right;\">\n",
       "      <th></th>\n",
       "      <th>ID_pedido</th>\n",
       "      <th>anos_experiencia_agente</th>\n",
       "      <th>classificacao_agente</th>\n",
       "      <th>latitude_loja</th>\n",
       "      <th>longitude_loja</th>\n",
       "      <th>latitude_entrega</th>\n",
       "      <th>longitude_entrega</th>\n",
       "      <th>data_pedido</th>\n",
       "      <th>hora_pedido</th>\n",
       "      <th>hora_retirada</th>\n",
       "      <th>clima</th>\n",
       "      <th>trafego</th>\n",
       "      <th>veiculo</th>\n",
       "      <th>area</th>\n",
       "      <th>categoria_produto</th>\n",
       "      <th>tempo_entrega</th>\n",
       "    </tr>\n",
       "  </thead>\n",
       "  <tbody>\n",
       "    <tr>\n",
       "      <th>43736</th>\n",
       "      <td>xnek760674819</td>\n",
       "      <td>12</td>\n",
       "      <td>4.9</td>\n",
       "      <td>13.022394</td>\n",
       "      <td>80.242439</td>\n",
       "      <td>13.052394</td>\n",
       "      <td>80.272439</td>\n",
       "      <td>2022-03-11</td>\n",
       "      <td>23:50:00</td>\n",
       "      <td>00:05:00</td>\n",
       "      <td>Nublado</td>\n",
       "      <td>Baixo</td>\n",
       "      <td>Scooter</td>\n",
       "      <td>Metropolitano</td>\n",
       "      <td>Casa</td>\n",
       "      <td>80</td>\n",
       "    </tr>\n",
       "    <tr>\n",
       "      <th>43737</th>\n",
       "      <td>cynl434665991</td>\n",
       "      <td>17</td>\n",
       "      <td>4.7</td>\n",
       "      <td>11.001753</td>\n",
       "      <td>76.986241</td>\n",
       "      <td>11.041753</td>\n",
       "      <td>77.026241</td>\n",
       "      <td>2022-03-07</td>\n",
       "      <td>13:35:00</td>\n",
       "      <td>13:40:00</td>\n",
       "      <td>Nublado</td>\n",
       "      <td>Alto</td>\n",
       "      <td>Motocicleta</td>\n",
       "      <td>Metropolitano</td>\n",
       "      <td>Cozinha</td>\n",
       "      <td>130</td>\n",
       "    </tr>\n",
       "    <tr>\n",
       "      <th>43738</th>\n",
       "      <td>nsyz997960170</td>\n",
       "      <td>16</td>\n",
       "      <td>4.9</td>\n",
       "      <td>23.351058</td>\n",
       "      <td>85.325731</td>\n",
       "      <td>23.431058</td>\n",
       "      <td>85.405731</td>\n",
       "      <td>2022-03-02</td>\n",
       "      <td>17:10:00</td>\n",
       "      <td>17:15:00</td>\n",
       "      <td>Neblina</td>\n",
       "      <td>Medio</td>\n",
       "      <td>Scooter</td>\n",
       "      <td>Metropolitano</td>\n",
       "      <td>Cosmeticos</td>\n",
       "      <td>180</td>\n",
       "    </tr>\n",
       "  </tbody>\n",
       "</table>\n",
       "</div>"
      ],
      "text/plain": [
       "           ID_pedido  anos_experiencia_agente  classificacao_agente  \\\n",
       "43736  xnek760674819                       12                   4.9   \n",
       "43737  cynl434665991                       17                   4.7   \n",
       "43738  nsyz997960170                       16                   4.9   \n",
       "\n",
       "       latitude_loja  longitude_loja  latitude_entrega  longitude_entrega  \\\n",
       "43736      13.022394       80.242439         13.052394          80.272439   \n",
       "43737      11.001753       76.986241         11.041753          77.026241   \n",
       "43738      23.351058       85.325731         23.431058          85.405731   \n",
       "\n",
       "      data_pedido hora_pedido hora_retirada    clima trafego      veiculo  \\\n",
       "43736  2022-03-11    23:50:00      00:05:00  Nublado   Baixo      Scooter   \n",
       "43737  2022-03-07    13:35:00      13:40:00  Nublado    Alto  Motocicleta   \n",
       "43738  2022-03-02    17:10:00      17:15:00  Neblina   Medio      Scooter   \n",
       "\n",
       "                area categoria_produto  tempo_entrega  \n",
       "43736  Metropolitano              Casa             80  \n",
       "43737  Metropolitano           Cozinha            130  \n",
       "43738  Metropolitano        Cosmeticos            180  "
      ]
     },
     "execution_count": 41,
     "metadata": {},
     "output_type": "execute_result"
    }
   ],
   "source": [
    "df.tail(n=3)"
   ]
  },
  {
   "cell_type": "markdown",
   "id": "e6f435f3",
   "metadata": {},
   "source": [
    "# Automatizando a análise de dados com LLMs"
   ]
  },
  {
   "cell_type": "markdown",
   "id": "4f8ed1bb",
   "metadata": {},
   "source": [
    "O objetivo é que a equipe de dados, ao receber esse arquivo, possa construir um modelo preditivo para prever o tempo de entrega com base nas características disponíveis. Para isso, é necessário analisar os dados, verificar os tipos de cada coluna, tratar dados nulos e duplicados, e explorar relações, como a influência dos anos de experiência no tempo de entrega.\n",
    "\n",
    "Queremos automatizar esse processo, evitando a necessidade de escrever código manualmente para calcular correlações, por exemplo. Desejamos que um LLM gere o código necessário para automatizar essas tarefas. Vamos aprender a obter esse código utilizando a ferramenta LangChain, que está em alta no campo da inteligência artificial e é útil para criar soluções e aplicações."
   ]
  },
  {
   "cell_type": "markdown",
   "id": "9fd16165",
   "metadata": {},
   "source": [
    "Configurando o LangChain e o Gemini"
   ]
  },
  {
   "cell_type": "code",
   "execution_count": 6,
   "id": "fd4efa28",
   "metadata": {},
   "outputs": [],
   "source": [
    "from langchain_google_genai import ChatGoogleGenerativeAI\n",
    "\n",
    "\n",
    "\n",
    "llm = ChatGoogleGenerativeAI(\n",
    "     model=\"gemini-2.0-flash\",\n",
    "     temperature=0,\n",
    "     max_tokens=None,\n",
    "     timeout=None,\n",
    "     max_retries=2,\n",
    "     \n",
    "    )"
   ]
  },
  {
   "cell_type": "markdown",
   "id": "ae6ca77b",
   "metadata": {},
   "source": [
    "## Executando o código gerado com ferramentas Python"
   ]
  },
  {
   "cell_type": "markdown",
   "id": "9322e7ac",
   "metadata": {},
   "source": [
    "primeiramente vamos instalar mais uma ferramenta !\n",
    "\n",
    "Para automatizar o processo de execução de código gerado por um LLM, utilizamos o LangChain, especificamente a ferramenta python-est-repltool. Vamos começar instalando o pacote experimental do LangChain, onde essa ferramenta está localizada. Para isso, executamos o seguinte comando"
   ]
  },
  {
   "cell_type": "code",
   "execution_count": 7,
   "id": "90695061",
   "metadata": {},
   "outputs": [],
   "source": [
    "from langchain_experimental.tools import PythonAstREPLTool"
   ]
  },
  {
   "cell_type": "markdown",
   "id": "47831a66",
   "metadata": {},
   "source": [
    "Configurando a ferramenta PythonAstREPLTool"
   ]
  },
  {
   "cell_type": "code",
   "execution_count": 8,
   "id": "af507b96",
   "metadata": {},
   "outputs": [],
   "source": [
    "ferramenta_python = PythonAstREPLTool(locals={\"df\": df})"
   ]
  },
  {
   "cell_type": "markdown",
   "id": "7d1eff9d",
   "metadata": {},
   "source": [
    "### Integrando a ferramenta com um LLM"
   ]
  },
  {
   "cell_type": "code",
   "execution_count": 9,
   "id": "a742d13d",
   "metadata": {},
   "outputs": [],
   "source": [
    "llm_com_ferramenta = llm.bind_tools([ferramenta_python], tool_choice=ferramenta_python.name)"
   ]
  },
  {
   "cell_type": "markdown",
   "id": "0c84ce24",
   "metadata": {},
   "source": [
    "## Criando o prompt com template"
   ]
  },
  {
   "cell_type": "markdown",
   "id": "58d97404",
   "metadata": {},
   "source": [
    "Para orientar o modelo, vamos criar um prompt usando um template. No LangChain, temos algumas opções, como o ChatPromptTemplate, que serve para criar um prompt de conversação. Imagine que haverá uma conversa em que a pessoa envia uma mensagem, a inteligência artificial gera o código, e esse código é executado pela nossa ferramenta Python. Todo esse processo ocorre de forma integrada."
   ]
  },
  {
   "cell_type": "markdown",
   "id": "f9401ab5",
   "metadata": {},
   "source": [
    "## Configurando o agente executor\n",
    "Agora, vamos criar uma variável chamada agente_executor para armazenar o agente que vamos executar. Atribuímos a essa variável a função que acabamos de importar e passamos alguns parâmetros necessários:"
   ]
  },
  {
   "cell_type": "markdown",
   "id": "95eb1170",
   "metadata": {},
   "source": [
    "## Primeiro Agent"
   ]
  },
  {
   "cell_type": "code",
   "execution_count": 10,
   "id": "cb499988",
   "metadata": {},
   "outputs": [],
   "source": [
    "agente_executor = create_pandas_dataframe_agent(\n",
    "    llm=llm,\n",
    "    df=df,\n",
    "    agent_type=\"tool-calling\",\n",
    "    verbose=True,\n",
    "    allow_dangerous_code=True\n",
    ")"
   ]
  },
  {
   "cell_type": "code",
   "execution_count": 11,
   "id": "ef393542",
   "metadata": {},
   "outputs": [
    {
     "name": "stdout",
     "output_type": "stream",
     "text": [
      "\n",
      "\n",
      "\u001b[1m> Entering new AgentExecutor chain...\u001b[0m\n",
      "\u001b[32;1m\u001b[1;3m\n",
      "Invoking: `python_repl_ast` with `{'query': \"correlation_experience_delivery = df['anos_experiencia_agente'].corr(df['tempo_entrega'])\\ncorrelation_rating_delivery = df['classificacao_agente'].corr(df['tempo_entrega'])\\nprint(f'{correlation_experience_delivery=}')\\nprint(f'{correlation_rating_delivery=}')\"}`\n",
      "responded: Para responder a essa pergunta, preciso calcular a correlação entre 'anos_experiencia_agente' e 'tempo_entrega', e a correlação entre 'classificacao_agente' e 'tempo_entrega'. Depois, compararei os valores absolutos dessas correlações.\n",
      "\n",
      "\n",
      "\n",
      "\u001b[0mcorrelation_experience_delivery=np.float64(-0.2516410755060903)\n",
      "\u001b[36;1m\u001b[1;3mcorrelation_rating_delivery=np.float64(-0.291975378761101)\n",
      "\u001b[0m\u001b[32;1m\u001b[1;3m\n",
      "Invoking: `python_repl_ast` with `{'query': \"correlation_experience_delivery = df['anos_experiencia_agente'].corr(df['tempo_entrega'])\\nprint(correlation_experience_delivery)\"}`\n",
      "\n",
      "\n",
      "\u001b[0m\u001b[36;1m\u001b[1;3m-0.2516410755060903\n",
      "\u001b[0m\u001b[32;1m\u001b[1;3mA correlação entre anos de experiência do agente e tempo de entrega é de -0.2516. A correlação entre classificação do agente e tempo de entrega é de -0.2920. Portanto, a correlação entre anos de experiência do agente e tempo de entrega não é maior que a correlação entre classificação do agente e tempo de entrega.\u001b[0m\n",
      "\n",
      "\u001b[1m> Finished chain.\u001b[0m\n"
     ]
    },
    {
     "data": {
      "text/plain": [
       "{'input': 'Qual é a correlação entre anos de experiência do agente e tempo de entrega?\\nE maior que a correlação entre classificacao do agente e tempo de entrega?\\n',\n",
       " 'output': 'A correlação entre anos de experiência do agente e tempo de entrega é de -0.2516. A correlação entre classificação do agente e tempo de entrega é de -0.2920. Portanto, a correlação entre anos de experiência do agente e tempo de entrega não é maior que a correlação entre classificação do agente e tempo de entrega.'}"
      ]
     },
     "execution_count": 11,
     "metadata": {},
     "output_type": "execute_result"
    }
   ],
   "source": [
    "agente_executor.invoke({\"input\": \"\"\"Qual é a correlação entre anos de experiência do agente e tempo de entrega?\n",
    "E maior que a correlação entre classificacao do agente e tempo de entrega?\n",
    "\"\"\"})"
   ]
  },
  {
   "cell_type": "code",
   "execution_count": 12,
   "id": "bfe6f7a1",
   "metadata": {},
   "outputs": [
    {
     "name": "stdout",
     "output_type": "stream",
     "text": [
      "\n",
      "\n",
      "\u001b[1m> Entering new AgentExecutor chain...\u001b[0m\n",
      "\u001b[32;1m\u001b[1;3m\n",
      "Invoking: `python_repl_ast` with `{'query': \"import pandas as pd\\n\\ndf_grouped = df.groupby('categoria_produto')['tempo_entrega'].mean()\\nprint(df_grouped)\\nprint(df_grouped.idxmin())\"}`\n",
      "\n",
      "\n",
      "\u001b[0mcategoria_produto\n",
      "Acessorios           132.048789\n",
      "Brinquedos           129.395901\n",
      "Calçados             131.151538\n",
      "Casa                 130.955307\n",
      "Cosmeticos           132.902503\n",
      "Cozinha              132.326973\n",
      "Cuidados pessoais    132.027417\n",
      "Eletronicos          130.837136\n",
      "Esportes             132.247150\n",
      "Joias                130.753034\n",
      "Lanches              131.904332\n",
      "Lazer                131.059337\n",
      "Livros               131.021601\n",
      "Mercado               26.539576\n",
      "Pets                 131.291822\n",
      "Roupas               130.483690\n",
      "Name: tempo_entrega, dtype: float64\n",
      "\u001b[36;1m\u001b[1;3mMercado\n",
      "\u001b[0m\u001b[32;1m\u001b[1;3mA categoria com a menor média de tempo de entrega é \"Mercado\".\u001b[0m\n",
      "\n",
      "\u001b[1m> Finished chain.\u001b[0m\n"
     ]
    },
    {
     "data": {
      "text/plain": [
       "{'input': 'Qual é a média do tempo de entrega para cada categoria de produto?\\nQual é a categoria com menor média?\\n',\n",
       " 'output': 'A categoria com a menor média de tempo de entrega é \"Mercado\".'}"
      ]
     },
     "execution_count": 12,
     "metadata": {},
     "output_type": "execute_result"
    }
   ],
   "source": [
    "agente_executor.invoke({\"input\": \"\"\"Qual é a média do tempo de entrega para cada categoria de produto?\n",
    "Qual é a categoria com menor média?\n",
    "\"\"\"})"
   ]
  },
  {
   "cell_type": "markdown",
   "id": "e7997c2e",
   "metadata": {},
   "source": [
    "## Construindo Ferramentas do Zero"
   ]
  },
  {
   "cell_type": "code",
   "execution_count": 13,
   "id": "d8ecc8f8",
   "metadata": {},
   "outputs": [],
   "source": [
    "from langchain.tools import tool"
   ]
  },
  {
   "cell_type": "markdown",
   "id": "42196346",
   "metadata": {},
   "source": [
    "### Ferramenta exploradora\n",
    "Descrição:\n",
    "\n",
    "Utilize esta ferramenta sempre que o usuário solicitar informações gerais sobre o DataFrame, incluindo número de colunas e linhas, nomes das colunas e seus tipos de dados, contagem de dados nulos e duplicados para dar um panorama geral sobre o arquivo."
   ]
  },
  {
   "cell_type": "markdown",
   "id": "7a538543",
   "metadata": {},
   "source": [
    "Você é um analista de dados encarregado de apresentar um resumo informativo sobre um     DataFrame a partir de uma {pergunta} feita pelo usuário.\n",
    "\n",
    "        A seguir, você encontrará as informações gerais da base de dados:\n",
    "\n",
    "        ================= INFORMAÇÕES DO DATAFRAME =================\n",
    "\n",
    "        Dimensões: {shape}\n",
    "\n",
    "        Colunas e tipos de dados:\n",
    "        {columns}\n",
    "\n",
    "        Valores nulos por coluna:\n",
    "        {nulos}\n",
    "\n",
    "        Strings 'nan' (qualquer capitalização) por coluna:\n",
    "        {nans_str}\n",
    "\n",
    "        Linhas duplicadas: {duplicados}\n",
    "\n",
    "        ============================================================\n",
    "\n",
    "        Com base nessas informações, escreva um resumo claro e organizado contendo:\n",
    "        1. Um título: ## Relatório de informações gerais sobre o dataset,\n",
    "        2. A dimensão total do DataFrame;\n",
    "        3. A descrição de cada coluna (incluindo nome, tipo de dado e o que aquela coluna é),\n",
    "        4. As colunas que contêm dados nulos, com a respectiva quantidade;\n",
    "        5. As colunas que contêm strings 'nan', com a respectiva quantidade;\n",
    "        6. E a existência (ou não) de dados duplicados;\n",
    "        7. Escreva um parágrafo sobre análises que podem ser feitas com\n",
    "        esses dados;\n",
    "        8. Escreva um parágrafo sobre tratamentos que podem ser feitos nos dados."
   ]
  },
  {
   "cell_type": "code",
   "execution_count": 18,
   "id": "a62d909f",
   "metadata": {},
   "outputs": [],
   "source": [
    "@tool\n",
    "def informacoes_dataframe(pergunta: str) -> str :\n",
    "    \"\"\"Utilize esta ferramenta sempre que o usuário solicitar informações gerais sobre o DataFrame,\n",
    "    incluindo número de colunas e linhas, nomes das colunas e seus tipos de dados, contagem de dados nulos\n",
    "    e duplicados para dar um panorama geral sobre o arquivo.\"\"\"\n",
    "\n",
    "    shape = df.shape\n",
    "\n",
    "    columns = df.dtypes\n",
    "\n",
    "    nulos = df.isnull().sum()\n",
    "    \n",
    "    nans_str = df.apply(lambda col: col[~col.isna()].astype(str).str.strip().str.lower().eq('nan')).sum()\n",
    "\n",
    "    duplicados = df.duplicated().sum()\n",
    "\n",
    "    template_resposta = PromptTemplate(\n",
    "        template = \"\"\"\n",
    "            Você é um analista de dados encarregado de apresentar um resumo informativo sobre um DataFrame a partir de uma {pergunta} feita pelo usuário.\n",
    "\n",
    "            A seguir, você encontrará as informações gerais da base de dados:\n",
    "            ==================== INFORMAÇÕES DO DATAFRAME ====================\n",
    "            Dimensões: {shape}\n",
    "\n",
    "            Colunas e tipos de dados: {columns}\n",
    "\n",
    "            Valores nulos por coluna: {nulos}\n",
    "\n",
    "            Strings 'nan' (qualquer capitalização) por coluna: {nans_str}\n",
    "\n",
    "            Linhas duplicadas: {duplicados}\n",
    "            ==================================================================\n",
    "\n",
    "            Com base nessas informações, escreva um resumo claro e organizado contendo:\n",
    "            1. Um título: ## Relatório de Informações gerais sobre o dataset,\n",
    "            2. A dimensão total do DataFrame,\n",
    "            3. A descrição de cada coluna (incluindo nome, tipo de dado e o que aquela coluna é),\n",
    "            4. As colunas que contém dados nulos, com a respectiva quantidade;\n",
    "            5. As colunas que contém strings 'nan', com a respectiva quantidade;\n",
    "            6. E a existência (ou não) de dados duplicados;\n",
    "            7. Escreva um parágrafo sobre analises que podem ser feitas com esses dados;\n",
    "            8. Escreva um parágrafo sobre tratamentos que podem ser feitos nos dados.\n",
    "        \"\"\",\n",
    "                input_variables=['pergunta', 'shape', 'columns', 'nulos', 'nans_str', 'duplicados']\n",
    "            )\n",
    "\n",
    "    cadeia = template_resposta | llm | StrOutputParser()\n",
    "    resposta = cadeia.invoke({\n",
    "        'pergunta': pergunta,\n",
    "        'shape': shape,\n",
    "        'columns': columns,\n",
    "        'nulos': nulos,\n",
    "        'nans_str': nans_str,\n",
    "        'duplicados': duplicados\n",
    "    })\n",
    "    return resposta"
   ]
  },
  {
   "cell_type": "code",
   "execution_count": null,
   "id": "41f1aaf3",
   "metadata": {},
   "outputs": [],
   "source": [
    "relatorio_informacoes = informacoes_dataframe.invoke(\"quais as informaçoes gerais sobre o dataframe?\")\n",
    "print(relatorio_informacoes)"
   ]
  },
  {
   "cell_type": "code",
   "execution_count": 21,
   "id": "3bfffba7",
   "metadata": {},
   "outputs": [
    {
     "data": {
      "text/markdown": [
       "## Relatório de Informações Gerais sobre o Dataset\n",
       "\n",
       "Este relatório apresenta um resumo das informações gerais do DataFrame fornecido, visando fornecer uma visão clara da estrutura e qualidade dos dados.\n",
       "\n",
       "**1. Dimensão do DataFrame:**\n",
       "\n",
       "O DataFrame possui 43.739 linhas e 16 colunas.\n",
       "\n",
       "**2. Descrição das Colunas:**\n",
       "\n",
       "*   **ID\\_pedido:** (object) Identificador único de cada pedido.\n",
       "*   **anos\\_experiencia\\_agente:** (int64) Anos de experiência do agente de entrega.\n",
       "*   **classificacao\\_agente:** (float64) Classificação do agente de entrega.\n",
       "*   **latitude\\_loja:** (float64) Latitude da localização da loja.\n",
       "*   **longitude\\_loja:** (float64) Longitude da localização da loja.\n",
       "*   **latitude\\_entrega:** (float64) Latitude do local de entrega.\n",
       "*   **longitude\\_entrega:** (float64) Longitude do local de entrega.\n",
       "*   **data\\_pedido:** (object) Data em que o pedido foi realizado.\n",
       "*   **hora\\_pedido:** (object) Hora em que o pedido foi realizado.\n",
       "*   **hora\\_retirada:** (object) Hora em que o pedido foi retirado para entrega.\n",
       "*   **clima:** (object) Condição climática no momento da entrega.\n",
       "*   **trafego:** (object) Nível de tráfego no momento da entrega.\n",
       "*   **veiculo:** (object) Tipo de veículo utilizado na entrega.\n",
       "*   **area:** (object) Área geográfica da entrega.\n",
       "*   **categoria\\_produto:** (object) Categoria do produto entregue.\n",
       "*   **tempo\\_entrega:** (int64) Tempo total de entrega em minutos.\n",
       "\n",
       "**3. Colunas com Dados Nulos:**\n",
       "\n",
       "*   **classificacao\\_agente:** 54 valores nulos.\n",
       "*   **clima:** 91 valores nulos.\n",
       "*   **trafego:** 91 valores nulos.\n",
       "\n",
       "**4. Colunas com Strings 'nan':**\n",
       "\n",
       "*   **hora\\_pedido:** 91 strings 'nan'.\n",
       "\n",
       "**5. Dados Duplicados:**\n",
       "\n",
       "Não há linhas duplicadas no DataFrame.\n",
       "\n",
       "**6. Análises Possíveis:**\n",
       "\n",
       "Com base nesses dados, diversas análises podem ser realizadas. É possível analisar a relação entre os anos de experiência do agente e sua classificação, identificar áreas com maior demanda de entrega, verificar a influência do clima e do tráfego no tempo de entrega, e analisar quais categorias de produtos são mais populares em diferentes áreas. Além disso, pode-se investigar a eficiência dos diferentes tipos de veículos utilizados nas entregas.\n",
       "\n",
       "**7. Tratamentos Recomendados:**\n",
       "\n",
       "Recomenda-se tratar os valores nulos nas colunas \"classificacao\\_agente\", \"clima\" e \"trafego\". A imputação de valores (utilizando a média, mediana ou moda) ou a remoção das linhas com valores nulos são opções a serem consideradas, dependendo do impacto na análise. As strings 'nan' na coluna \"hora\\_pedido\" também devem ser tratadas, seja convertendo-as para valores nulos e aplicando uma estratégia de imputação, ou removendo as linhas correspondentes."
      ],
      "text/plain": [
       "<IPython.core.display.Markdown object>"
      ]
     },
     "metadata": {},
     "output_type": "display_data"
    }
   ],
   "source": [
    "display(Markdown(relatorio_informacoes))"
   ]
  },
  {
   "cell_type": "markdown",
   "id": "ac840ab5",
   "metadata": {},
   "source": [
    "### Ferramenta estatística\n",
    "Descrição:\n",
    "\n",
    "Utilize esta ferramenta sempre que o usuário solicitar um resumo estatístico completo e descritivo da base de dados, incluindo várias estatísticas (média, desvio padrão, mínimo, máximo etc.)\n",
    "\n",
    "Prompt:"
   ]
  },
  {
   "cell_type": "markdown",
   "id": "e351181d",
   "metadata": {},
   "source": [
    "Você é um analista de dados encarregado de interpretar resultados estatísticos de uma base de dados a partir de uma {pergunta} feita pelo usuário.\n",
    "\n",
    "        A seguir, você encontrará as estatísticas descritivas da base de dados:\n",
    "\n",
    "        ================= ESTATÍSTICAS DESCRITIVAS =================\n",
    "\n",
    "        {resumo}\n",
    "\n",
    "        ============================================================\n",
    "\n",
    "Com base nesses dados, elabore um resumo explicativo com linguagem clara, acessível e fluida, destacando os principais pontos dos resultados. Inclua:\n",
    "\n",
    "        1. Um título: ## Relatório de estatísticas descritivas;\n",
    "        2. Uma visão geral das estatísticas das colunas numéricas;\n",
    "        3. Um parágrafo sobre cada uma das colunas, comentando informações sobre seus valores;\n",
    "        4. Identificação de possíveis outliers com base nos valores mínimo e máximo;\n",
    "        5. Recomendações de próximos passos na análise com base nos padrões identificados."
   ]
  },
  {
   "cell_type": "code",
   "execution_count": 95,
   "id": "55bc565a",
   "metadata": {},
   "outputs": [],
   "source": [
    "@tool\n",
    "def resumo_estatistico(pergunta: str) -> str:\n",
    "    \"\"\"Utilize esta ferramenta sempre que o usuário solicitar um resumo estatístico do DataFrame,\n",
    "    incluindo (média, mediana, desvio padrão, valores máximos e mínimos, contagem de valores únicos\n",
    "    e frequências dos valores mais comuns)\"\"\"\n",
    "\n",
    "    estatisticas_descritivas = df.describe(include=\"number\").transpose().to_string()\n",
    "\n",
    "    template_resposta = PromptTemplate(\n",
    "        template = \"\"\"\n",
    "            Você é um analista de dados encarregado de apresentar um resumo estatístico sobre um DataFrame a partir de uma {pergunta} feita pelo usuário.\n",
    "\n",
    "            A seguir, você encontrará as informações gerais da base de dados:\n",
    "            ==================== INFORMAÇÕES DO DATAFRAME ====================\n",
    "            {resumo}\n",
    "            ==================================================================\n",
    "            Com base nesses dados, elabore um resumo explicativo com linguagem clara, acessível e fluída, destacando\n",
    "            os principais pontos dos resultados. Inclua:\n",
    "            1. Um título: ## Relatório de estatísticas descritivas;\n",
    "            2. Uma visão geral das estatísticas das colunas numéricas;\n",
    "            3. Um parágrafo sobre cada uma das colunas, comentando informações sobre seus valores;\n",
    "            4. Identificação de possíveis outliers com base nos valores mínimo e máximo;\n",
    "            5. Recomendações de próximos passos na análise com base nos padrões identificados.\n",
    "            6. Se houver uma pergunta específica do usuário, responda-a de forma clara e objetiva.\n",
    "        \"\"\",\n",
    "                input_variables=['pergunta', 'resumo']\n",
    "            )\n",
    "\n",
    "    cadeia = template_resposta | llm | StrOutputParser()\n",
    "    resposta = cadeia.invoke({\n",
    "        'pergunta': pergunta,\n",
    "        'resumo': estatisticas_descritivas\n",
    "    })\n",
    "    return resposta"
   ]
  },
  {
   "cell_type": "code",
   "execution_count": null,
   "id": "d57e3a7d",
   "metadata": {},
   "outputs": [],
   "source": [
    "relatorio_estatistico = resumo_esttatistico.invoke(\"quais as estatisticas descritivas dos dados?\")\n",
    "#print(relatorio_estatistico) \"quais as informaçoes gerais sobre o dataframe?\""
   ]
  },
  {
   "cell_type": "code",
   "execution_count": 28,
   "id": "053f2bac",
   "metadata": {},
   "outputs": [
    {
     "data": {
      "text/markdown": [
       "## Relatório de Estatísticas Descritivas\n",
       "\n",
       "Este relatório apresenta um resumo das estatísticas descritivas de um conjunto de dados, fornecendo insights sobre a distribuição e características das variáveis numéricas presentes. A análise abrange informações como média, desvio padrão, valores mínimo e máximo, além dos quartis (25%, 50% e 75%).\n",
       "\n",
       "**Visão Geral das Estatísticas**\n",
       "\n",
       "O conjunto de dados é composto por 43.739 observações, com exceção da coluna 'classificacao_agente' que possui 43.685, indicando a presença de valores ausentes. As variáveis analisadas incluem anos de experiência dos agentes, classificação dos agentes, latitude e longitude das lojas e entregas, e o tempo de entrega.\n",
       "\n",
       "**Análise Detalhada por Coluna**\n",
       "\n",
       "*   **anos\\_experiencia\\_agente:** A experiência média dos agentes é de aproximadamente 12 anos, com um desvio padrão de 3.11 anos. A experiência varia de 1 a 20 anos, indicando uma boa diversidade na experiência dos agentes.\n",
       "*   **classificacao\\_agente:** A classificação média dos agentes é de 4.63, em uma escala que varia de 1 a 5. A proximidade entre a média e o valor máximo (5) sugere uma tendência de classificações elevadas.\n",
       "*   **latitude\\_loja:** A latitude das lojas varia de -30.90 a 30.91, com uma média de 17.21 e desvio padrão de 7.76. Essa variação indica que as lojas estão distribuídas em diferentes localizações geográficas.\n",
       "*   **longitude\\_loja:** A longitude das lojas varia de -88.37 a 88.43, com uma média de 70.66 e desvio padrão de 21.48. Assim como a latitude, a longitude apresenta uma variação considerável, refletindo a dispersão geográfica das lojas.\n",
       "*   **latitude\\_entrega:** A latitude dos locais de entrega varia de 0.01 a 31.05, com uma média de 17.46 e desvio padrão de 7.34. A amplitude dos dados sugere uma cobertura de entrega em diversas áreas.\n",
       "*   **longitude\\_entrega:** A longitude dos locais de entrega varia de 0.01 a 88.56, com uma média de 70.82 e desvio padrão de 21.15. Similar à latitude de entrega, a longitude também demonstra uma ampla área de cobertura.\n",
       "*   **tempo\\_entrega:** O tempo médio de entrega é de 124.91 minutos, com um desvio padrão de 51.92 minutos. O tempo de entrega varia de 10 a 270 minutos, indicando uma considerável variação no tempo necessário para realizar as entregas.\n",
       "\n",
       "**Identificação de Possíveis Outliers**\n",
       "\n",
       "Com base nos valores mínimo e máximo, algumas colunas podem conter outliers:\n",
       "\n",
       "*   **latitude\\_entrega e longitude\\_entrega:** A presença de valores próximos a zero pode indicar erros de digitação ou localizações inválidas.\n",
       "*   **tempo\\_entrega:** O valor máximo de 270 minutos (4,5 horas) pode ser considerado um outlier, dependendo do contexto e da política de entrega da empresa.\n",
       "\n",
       "**Recomendações para Próximos Passos**\n",
       "\n",
       "Com base nos padrões identificados, recomenda-se:\n",
       "\n",
       "1.  **Tratamento de valores ausentes:** Investigar e tratar os valores ausentes na coluna 'classificacao\\_agente' para evitar vieses na análise.\n",
       "2.  **Análise de outliers:** Investigar os possíveis outliers nas colunas 'latitude\\_entrega', 'longitude\\_entrega' e 'tempo\\_entrega' para determinar se são erros ou representam situações atípicas que merecem atenção.\n",
       "3.  **Análise de correlação:** Avaliar a correlação entre as variáveis para identificar possíveis relações entre elas. Por exemplo, verificar se existe correlação entre anos de experiência do agente e a classificação do agente, ou entre a localização da loja e o tempo de entrega.\n",
       "4.  **Segmentação:** Segmentar os dados com base em diferentes critérios (por exemplo, localização da loja, tempo de entrega) para identificar padrões específicos em cada segmento.\n",
       "5.  **Visualização de dados:** Utilizar gráficos e visualizações para explorar a distribuição das variáveis e identificar padrões visuais que podem não ser evidentes nas estatísticas descritivas.\n",
       "6.  **Análise de séries temporais:** Se os dados forem coletados ao longo do tempo, realizar uma análise de séries temporais para identificar tendências e sazonalidades no tempo de entrega e outras variáveis relevantes."
      ],
      "text/plain": [
       "<IPython.core.display.Markdown object>"
      ]
     },
     "metadata": {},
     "output_type": "display_data"
    }
   ],
   "source": [
    "display(Markdown(relatorio_estatistico))"
   ]
  },
  {
   "cell_type": "code",
   "execution_count": null,
   "id": "3ba241bd",
   "metadata": {},
   "outputs": [
    {
     "data": {
      "text/markdown": [
       "## Relatório de Estatísticas Descritivas\n",
       "\n",
       "Este relatório apresenta um resumo das estatísticas descritivas das colunas numéricas do nosso DataFrame. O objetivo é fornecer uma visão geral dos dados, identificar padrões e anomalias, e sugerir próximos passos para uma análise mais aprofundada.\n",
       "\n",
       "**Visão Geral das Estatísticas**\n",
       "\n",
       "A tabela abaixo resume as principais estatísticas de cada coluna numérica: contagem, média, desvio padrão, valor mínimo, quartis (25%, 50%, 75%) e valor máximo.\n",
       "\n",
       "|                               | count   | mean      | std       | min       | 25%       | 50%       | 75%       | max       |\n",
       "| :---------------------------- | :------ | :---------- | :---------- | :-------- | :-------- | :-------- | :-------- | :-------- |\n",
       "| anos_experiencia_agente       | 43739   | 12.114292 | 3.112121  | 1.000000  | 9.000000  | 12.000000 | 15.000000 | 20.000000 |\n",
       "| classificacao_agente          | 43685   | 4.632567  | 0.331560  | 1.000000  | 4.500000  | 4.700000  | 4.900000  | 5.000000  |\n",
       "| latitude_loja                 | 43739   | 17.210960 | 7.764225  | -30.902872 | 12.933298 | 18.551440 | 22.732225 | 30.914057 |\n",
       "| longitude_loja                | 43739   | 70.661177 | 21.475005 | -88.366217 | 73.170283 | 75.898497 | 78.045359 | 88.433452 |\n",
       "| latitude_entrega              | 43739   | 17.459031 | 7.342950  | 0.010000  | 12.985996 | 18.633626 | 22.785049 | 31.054057 |\n",
       "| longitude_entrega             | 43739   | 70.821842 | 21.153148 | 0.010000  | 73.280000 | 76.002574 | 78.104095 | 88.563452 |\n",
       "| tempo_entrega                 | 43739   | 124.905645 | 51.915451 | 10.000000 | 90.000000 | 125.000000 | 160.000000 | 270.000000 |\n",
       "\n",
       "**Análise por Coluna**\n",
       "\n",
       "*   **anos\\_experiencia\\_agente:** A experiência média dos agentes é de aproximadamente 12 anos, com uma variação relativamente pequena (desvio padrão de 3.11 anos). A experiência varia de 1 a 20 anos.\n",
       "\n",
       "*   **classificacao\\_agente:** A classificação média dos agentes é de 4.63, numa escala que vai de 1 a 5. O desvio padrão é baixo (0.33), indicando que a maioria dos agentes tem classificações próximas à média. Há alguns valores faltantes nesta coluna.\n",
       "\n",
       "*   **latitude\\_loja:** A latitude média das lojas é de 17.21, com uma variação considerável (desvio padrão de 7.76). Os valores variam de -30.90 a 30.91. A amplitude dos valores sugere que as lojas estão distribuídas em uma área geográfica extensa.\n",
       "\n",
       "*   **longitude\\_loja:** A longitude média das lojas é de 70.66, com uma variação considerável (desvio padrão de 21.48). Os valores variam de -88.37 a 88.43. Assim como a latitude, a amplitude dos valores sugere uma distribuição geográfica extensa das lojas.\n",
       "\n",
       "*   **latitude\\_entrega:** A latitude média das entregas é de 17.46, com uma variação considerável (desvio padrão de 7.34). Os valores variam de 0.01 a 31.05.\n",
       "\n",
       "*   **longitude\\_entrega:** A longitude média das entregas é de 70.82, com uma variação considerável (desvio padrão de 21.15). Os valores variam de 0.01 a 88.56.\n",
       "\n",
       "*   **tempo\\_entrega:** O tempo médio de entrega é de aproximadamente 125 minutos, com uma variação considerável (desvio padrão de 51.92 minutos). Os tempos de entrega variam de 10 a 270 minutos.\n",
       "\n",
       "**Identificação de Possíveis Outliers**\n",
       "\n",
       "Com base nos valores mínimos e máximos, podemos identificar alguns possíveis outliers:\n",
       "\n",
       "*   **latitude\\_loja e longitude\\_loja:** Os valores mínimos negativos podem indicar erros de digitação ou lojas localizadas em regiões inesperadas.\n",
       "*   **latitude\\_entrega e longitude\\_entrega:** Valores próximos de zero podem indicar erros de digitação ou entregas em locais inesperados.\n",
       "*   **tempo\\_entrega:** O tempo máximo de 270 minutos pode ser considerado um outlier, dependendo do contexto do negócio.\n",
       "\n",
       "**Recomendações de Próximos Passos**\n",
       "\n",
       "Com base nos padrões identificados, sugiro os seguintes próximos passos:\n",
       "\n",
       "1.  **Tratar valores faltantes:** Investigar e tratar os valores faltantes na coluna \"classificacao\\_agente\".\n",
       "2.  **Investigar outliers:** Investigar os possíveis outliers nas colunas de latitude e longitude das lojas e entregas, bem como no tempo de entrega. Verificar se são erros de digitação ou se representam situações reais que precisam ser consideradas.\n",
       "3.  **Análise de distribuição:** Analisar a distribuição das colunas numéricas usando histogramas e boxplots para identificar padrões e assimetrias.\n",
       "4.  **Análise de correlação:** Calcular a matriz de correlação entre as colunas numéricas para identificar relações entre as variáveis.\n",
       "5.  **Análise geográfica:** Visualizar as localizações das lojas e entregas em um mapa para entender a distribuição geográfica dos dados.\n",
       "6.  **Análise de tempo de entrega:** Investigar os fatores que influenciam o tempo de entrega, como a localização da loja, a localização da entrega, a experiência do agente e a classificação do agente.\n",
       "\n",
       "Ao seguir esses passos, será possível obter uma compreensão mais profunda dos dados e identificar oportunidades de melhoria no processo de entrega."
      ],
      "text/plain": [
       "<IPython.core.display.Markdown object>"
      ]
     },
     "metadata": {},
     "output_type": "display_data"
    }
   ],
   "source": [
    "display(Markdown(relatorio_estatistico)) #\"quais as informaçoes gerais sobre o dataframe?\""
   ]
  },
  {
   "cell_type": "markdown",
   "id": "1f637e48",
   "metadata": {},
   "source": [
    "### Ferramenta visual\n",
    "Descrição:\n",
    "\n",
    "Utilize esta ferramenta sempre que o usuário solicitar um gráfico a partir de um DataFrame pandas (df) com base em uma instrução do usuário. A instrução pode conter pedidos como: 'Crie um gráfico da média de tempo de entrega por clima', 'Plote a distribuição do tempo de entrega' ou 'Plote a relação entre a classificação dos agentes e o tempo de entrega'. Palavras-chave comuns que indicam o uso desta ferramenta incluem: 'crie um gráfico', 'plote', 'visualize', 'faça um gráfico de', 'mostre a distribuição', 'represente graficamente', entre outros.\n",
    "\n",
    "Prompt:"
   ]
  },
  {
   "cell_type": "markdown",
   "id": "7e8f9045",
   "metadata": {},
   "source": [
    "Você é um especialista em visualização de dados. Sua tarefa é gerar **apenas o código Python** para plotar um gráfico com base na solicitação do usuário.\n",
    "\n",
    "            ## Solicitação do usuário:\n",
    "            \"{pergunta}\"\n",
    "\n",
    "            ## Metadados do DataFrame:\n",
    "            {colunas}\n",
    "\n",
    "            ## Amostra dos dados (3 primeiras linhas):\n",
    "            {amostra}\n",
    "\n",
    "            ## Instruções obrigatórias:\n",
    "            1. Use as bibliotecas `matplotlib.pyplot` (como `plt`) e `seaborn` (como `sns`);\n",
    "            2. Defina o tema com `sns.set_theme()`;\n",
    "            3. Certifique-se de que todas as colunas mencionadas na solicitação existem no DataFrame chamado `df`;\n",
    "            4. Escolha o tipo de gráfico adequado conforme a análise solicitada:\n",
    "            - **Distribuição de variáveis numéricas**: `histplot`, `kdeplot`, `boxplot` ou `violinplot`\n",
    "            - **Distribuição de variáveis categóricas**: `countplot`\n",
    "            - **Comparação entre categorias**: `barplot`\n",
    "            - **Relação entre variáveis**: `scatterplot`\n",
    "            - **Séries temporais**: `lineplot`, com o eixo X formatado como datas\n",
    "            5. Configure o tamanho do gráfico com `figsize=(8, 4)`;\n",
    "            6. Adicione título e rótulos (`labels`) apropriados aos eixos;\n",
    "            7. Posicione o título à esquerda com `loc='left'`, deixe o `pad=20` e use `fontsize=14`;\n",
    "            8. Mantenha os ticks eixo X sem rotação com `plt.xticks(rotation=0)`;\n",
    "            9. Remova as bordas superior e direita do gráfico com `sns.despine()`;\n",
    "            10. Finalize o código com `plt.show()`.\n",
    "\n",
    "            Retorne APENAS o código Python, sem nenhum texto adicional ou explicação.\n",
    "\n",
    "            Código Python:"
   ]
  },
  {
   "cell_type": "code",
   "execution_count": 51,
   "id": "d0de4fca",
   "metadata": {},
   "outputs": [],
   "source": [
    "@tool\n",
    "def gerar_grafico(pergunta: str) -> str:\n",
    "    \"\"\"Utilize esta ferramenta sempre que a pessoa usuária solicitar um gráfico a partir de um DataFrame PandasDef, \n",
    "    com base em uma instrução do usuário. A instrução pode conter pedidos como: crie um gráfico de média de tempo de \n",
    "    entrega por clima, plote a distribuição do tempo de entrega, ou plote a relação entre a classificação dos agentes \n",
    "    e o tempo de entrega. Palavras-chave comuns que indicam o uso dessa ferramenta incluem: crie um gráfico, plote, \n",
    "    visualize, faça um gráfico de, mostre a distribuição, represente graficamente, entre outros.\"\"\"\n",
    "\n",
    "    colunas_info = \"\\n\".join([f\"- {col} ({dtype})\" for col, dtype in df.dtypes.items()])\n",
    "    amostra_dados = df.head(10).to_dict(orient='records')\n",
    "\n",
    "    template_resposta = PromptTemplate(\n",
    "        template = \"\"\"\n",
    "        Você é um especialista em visualização de dados. Sua tarefa é gerar *apenas o código Python**\n",
    "        para plotar um gráfico com base na solicitação do usuário.\n",
    "\n",
    "        ## Solicitação do usuário:\n",
    "        \"{pergunta}\"\n",
    "\n",
    "        ## Metadados do DataFrame:\n",
    "        {colunas}\n",
    "\n",
    "        ## Amostra dos dados (3 primeiras linhas):\n",
    "        {amostra}\n",
    "\n",
    "        ## Instruções obrigatórias:\n",
    "        1. Use as bibliotecas `matplotlib.pyplot` (como `plt`) e `seaborn` (como `sns`);\n",
    "        2. Defina o tema com `sns.set_theme()`;\n",
    "        3. Certifique-se de que todas as colunas mencionadas na solicitação existem no DataFrame chamado `df`;\n",
    "        4. Escolha o tipo de gráfico adequado conforme a análise solicitada:\n",
    "            - **Distribuição de variáveis numéricas**: `histplot`, `kdeplot`, `boxplot` ou `violinplot`\n",
    "            - **Distribuição de variáveis categóricas**: `countplot`\n",
    "            - **Comparação entre categorias**: `barplot`\n",
    "            - **Relação entre variáveis**: `scatterplot` ou `lineplot`\n",
    "            - **Séries temporais**: `lineplot`, com o eixo X formatado como datas\n",
    "        5. Configure o tamanho do gráfico com `figsize=(8,4)`;\n",
    "        6. Adicione título e rótulos (`labels`) apropriados aos eixos;\n",
    "        7. Posicione o título à esquerda com `loc='left'`, deixe o `pad=20` e use `fontsize=14`;\n",
    "        8. Mantenha os ticks eixo X sem rotação com `plt.xticks(rotation=0)`;\n",
    "        9. Remova as bordas superior e direita do gráfico com `sns.despine()`;\n",
    "        10. Finalize o código com `plt.show()`.\n",
    "\n",
    "        Retorne APENAS o código Python, sem nenhum texto adicional ou explicação.\n",
    "\n",
    "        Código Python:```\n",
    "        \"\"\",\n",
    "        input_variables=[\"pergunta\", \"colunas\", \"amostra\"]\n",
    "    )\n",
    "\n",
    "    cadeia = template_resposta | llm | StrOutputParser()\n",
    "\n",
    "    codigo_bruto = cadeia.invoke({\n",
    "        'pergunta': pergunta,\n",
    "        'colunas': colunas_info,\n",
    "        'amostra': amostra_dados\n",
    "    })\n",
    "\n",
    "    # Limpa o código para remover espaços desnecessários\n",
    "    codigo_limpo = codigo_bruto.replace(\"```python\", \"\").replace(\"```\", \"\").strip()\n",
    "\n",
    "    # Executa o código gerado\n",
    "    exec_globals = {\"df\": df, \"plt\": plt, \"sns\": sns}\n",
    "    exec_locals = {}\n",
    "    exec(codigo_limpo, exec_globals, exec_locals)\n",
    "    fig = plt.gcf()\n",
    "    return fig"
   ]
  },
  {
   "cell_type": "code",
   "execution_count": 36,
   "id": "8f5c5732",
   "metadata": {},
   "outputs": [
    {
     "data": {
      "image/png": "[encoded data removed]",
      "text/plain": [
       "<Figure size 800x400 with 1 Axes>"
      ]
     },
     "metadata": {},
     "output_type": "display_data"
    },
    {
     "name": "stdout",
     "output_type": "stream",
     "text": [
      "Figure(640x480)\n"
     ]
    },
    {
     "data": {
      "text/plain": [
       "<Figure size 640x480 with 0 Axes>"
      ]
     },
     "metadata": {},
     "output_type": "display_data"
    }
   ],
   "source": [
    "resposta_grafico = gerar_grafico.invoke(\"Crie um gráfico da média do tempo de entregas por climas.\")\n",
    "print(resposta_grafico)"
   ]
  },
  {
   "cell_type": "code",
   "execution_count": 44,
   "id": "90e4cc44",
   "metadata": {},
   "outputs": [
    {
     "name": "stderr",
     "output_type": "stream",
     "text": [
      "<string>:16: FutureWarning: \n",
      "\n",
      "Passing `palette` without assigning `hue` is deprecated and will be removed in v0.14.0. Assign the `x` variable to `hue` and set `legend=False` for the same effect.\n",
      "\n"
     ]
    },
    {
     "data": {
      "image/png": "[encoded data removed]",
      "text/plain": [
       "<Figure size 800x400 with 1 Axes>"
      ]
     },
     "metadata": {},
     "output_type": "display_data"
    },
    {
     "name": "stdout",
     "output_type": "stream",
     "text": [
      "Figure(640x480)\n"
     ]
    },
    {
     "data": {
      "text/plain": [
       "<Figure size 640x480 with 0 Axes>"
      ]
     },
     "metadata": {},
     "output_type": "display_data"
    }
   ],
   "source": [
    "resposta_grafico_1 = gerar_grafico.invoke(\"\"\"Crie um gráfico da média do tempo de entrega por clima.\n",
    "                                            Ordene do maior para o menor valor.\"\"\")\n",
    "print(resposta_grafico_1)"
   ]
  },
  {
   "cell_type": "code",
   "execution_count": 52,
   "id": "aa453bea",
   "metadata": {},
   "outputs": [
    {
     "data": {
      "image/png": "[encoded data removed]",
      "text/plain": [
       "<Figure size 800x400 with 1 Axes>"
      ]
     },
     "metadata": {},
     "output_type": "display_data"
    },
    {
     "data": {
      "text/plain": [
       "<Figure size 640x480 with 0 Axes>"
      ]
     },
     "metadata": {},
     "output_type": "display_data"
    }
   ],
   "source": [
    "resposta_grafico_2 = gerar_grafico.invoke(\"\"\"Plote um boxplot do tempo de entrega.\"\"\")\n"
   ]
  },
  {
   "cell_type": "code",
   "execution_count": 56,
   "id": "7ed70ed0",
   "metadata": {},
   "outputs": [
    {
     "data": {
      "image/png": "[encoded data removed]",
      "text/plain": [
       "<Figure size 800x400 with 1 Axes>"
      ]
     },
     "metadata": {},
     "output_type": "display_data"
    },
    {
     "name": "stdout",
     "output_type": "stream",
     "text": [
      "Figure(640x480)\n"
     ]
    },
    {
     "data": {
      "text/plain": [
       "<Figure size 640x480 with 0 Axes>"
      ]
     },
     "metadata": {},
     "output_type": "display_data"
    }
   ],
   "source": [
    "resposta_grafico_4 = gerar_grafico.invoke(\"\"\"Plote um boxplot do tempo de entrega para cada tipo de clima.\n",
    "                                                Adicione uma hue de cores categórica. lembre-se que a base do eixo x dever ser 0 \"\"\")\n",
    "print(resposta_grafico_4)"
   ]
  },
  {
   "cell_type": "markdown",
   "id": "37b1712c",
   "metadata": {},
   "source": [
    "## Orquestrandos agentes capazes de Usar Ferramentas\n",
    "\n",
    "\n",
    "Vamos começar a criar nosso agente. Chegamos ao momento em que conseguimos desenvolver todas as ferramentas desejadas: a ferramenta para gerar relatórios de informações, a ferramenta de análise estatística e a ferramenta que gera gráficos. Mas como podemos integrar tudo isso em um agente"
   ]
  },
  {
   "cell_type": "code",
   "execution_count": 59,
   "id": "a7a137df",
   "metadata": {},
   "outputs": [],
   "source": [
    "ferramenta_informacoes_dataFrame = Tool(\n",
    "    name=\"Informações DataFrame\",\n",
    "    func= informacoes_dataframe,\n",
    "    description=\"\"\"Utilize esta ferramenta sempre que o usuário solicitar informações gerais sobre o dataframe,\n",
    "                    incluindo número de colunas e linhas, nomes das colunas e seus tipos de dados, contagem de dados nulos e\n",
    "                    duplicados para dar um panorama geral sobre o arquivo.\"\"\",\n",
    "    return_direct=True\n",
    ")\n",
    "ferramenta_resumo_estatistico = Tool(\n",
    "    name=\"Resumo Estatístico\",\n",
    "    func=resumo_estatistico,\n",
    "    description=\"\"\"Utilize esta ferramenta sempre que o usuário solicitar um resumo estatístico completo\n",
    "                    e descritivo da base de dados, incluindo várias estatísticas (média, desvio padrão, mínimo, máximo etc.).\n",
    "                    Não utilize esta ferramenta para calcular uma única métrica como 'qual é a média de X' ou \n",
    "                    qual a correlação das variáveis'. Nesses casos, utilize a ferramenta_codigos_python.\"\"\",\n",
    "    return_direct=True\n",
    ") \n",
    "ferramenta_gerar_grafico = Tool(\n",
    "    name=\"Gerar Gráfico\",\n",
    "    func=gerar_grafico,\n",
    "    description=\"\"\"Utilize esta ferramenta sempre que o usuário solicitar um gráfico a partir de um DataFrame\n",
    "                    pandas ('df') com base em uma instrução do usuário. A instrução pode conter pedidos como: 'Crie um gráfico\n",
    "                    da média de tempo de entrega por clima', 'Plote a distribuição do tempo de entrega' ou 'Plote a relação\n",
    "                    entre a classificação dos agentes e o tempo de entrega'. Palavras-chave comuns que indicam o uso desta\n",
    "                    ferramenta incluem: 'crie um gráfico', 'plote', 'visualize', 'faça um gráfico de', 'mostre a distribuição',\n",
    "                    'represente graficamente', entre outros.\"\"\",\n",
    "    return_direct=True\n",
    ")\n",
    "ferramenta_codigos_python = Tool(\n",
    "    name=\"Códigos Python\",\n",
    "    func=PythonAstREPLTool(locals={\"df\": df}),\n",
    "    description=\"\"\"Utilize esta ferramenta sempre que o usuário solicitar cálculos, consultas ou transformações\n",
    "                    específicas usando Python diretamente sobre o DataFrame `df`.\n",
    "                    Exemplos de uso incluem: \"Qual é a média da coluna X?\", \"Quais são os valores únicos da coluna Y?\",\n",
    "                    \"Qual a correlação entre A e B?\". Evite utilizar esta ferramenta para solicitações mais amplas ou descritivas,\n",
    "                    como informações gerais sobre o DataFrame, resumos estatísticos completos ou geração de gráficos - nesses casos,\n",
    "                    use as ferramentas apropriadas.\"\"\",\n",
    ")\n",
    "        "
   ]
  },
  {
   "cell_type": "code",
   "execution_count": null,
   "id": "57dadc8b",
   "metadata": {},
   "outputs": [
    {
     "name": "stderr",
     "output_type": "stream",
     "text": [
      "c:\\Users\\Campeao Lub\\OneDrive - Campeão Distribuição e Logística Ltda\\Documentos\\GitHub\\AgentesIA-com-Analise-de-dados\\venv\\Lib\\site-packages\\langsmith\\client.py:272: LangSmithMissingAPIKeyWarning: API key must be provided when using hosted LangSmith API\n",
      "  warnings.warn(\n"
     ]
    }
   ],
   "source": [
    "prompt_react = hub.pull(\"hwchase17/react\")"
   ]
  },
  {
   "cell_type": "code",
   "execution_count": 87,
   "id": "65d21b4a",
   "metadata": {},
   "outputs": [],
   "source": [
    "df_head = df.head().to_markdown()"
   ]
  },
  {
   "cell_type": "code",
   "execution_count": 88,
   "id": "64f5c58b",
   "metadata": {},
   "outputs": [],
   "source": [
    "\n",
    "prompt_react_pt = PromptTemplate(\n",
    "    \n",
    "    input_variables=[\"input\", \"tools\", \"agent_scratchpad\",\"tool_names\"],\n",
    "     partial_variables={\"df_head\": df_head},\n",
    "    template =  \"\"\"Você é um assistente que sempre responde em português.\n",
    "\n",
    "                Você tem acesso a um dataframe pandas chamado `df`.\n",
    "                Aqui estão as primeiras linhas do DataFrame, obtidas com `df.head().to_markdown()`:\n",
    "\n",
    "                {df_head}\n",
    "\n",
    "                Responda às seguintes perguntas da melhor forma possível.\n",
    "\n",
    "                Para isso, você tem acesso às seguintes ferramentas:\n",
    "\n",
    "                {tools}\n",
    "\n",
    "                Use o seguinte formato:\n",
    "\n",
    "                Question: a pergunta de entrada que você deve responder\n",
    "                Thought: você deve sempre pensar no que fazer\n",
    "                Action: a ação a ser tomada, deve ser uma das [{tool_names}]\n",
    "                Action Input: a entrada para a ação\n",
    "                Observation: o resultado da ação\n",
    "                ... (este Thought/Action/Action Input/Observation pode se repetir N vezes)\n",
    "                Thought: Agora eu sei a resposta final\n",
    "                Final Answer: a resposta final para a pergunta de entrada original.\n",
    "\n",
    "                Comece!\n",
    "\n",
    "                Question: {input}\n",
    "                Thought: {agent_scratchpad}\"\"\"\n",
    "    )\n",
    "                "
   ]
  },
  {
   "cell_type": "code",
   "execution_count": 89,
   "id": "4c1ce2bf",
   "metadata": {},
   "outputs": [],
   "source": [
    "from langchain.agents import create_react_agent\n",
    "from langchain.agents import AgentExecutor"
   ]
  },
  {
   "cell_type": "code",
   "execution_count": 90,
   "id": "5dc3bcbe",
   "metadata": {},
   "outputs": [],
   "source": [
    "  \n",
    "tools=[\n",
    "        ferramenta_informacoes_dataFrame,\n",
    "        ferramenta_resumo_estatistico,\n",
    "        ferramenta_gerar_grafico,\n",
    "        ferramenta_codigos_python\n",
    "    ]"
   ]
  },
  {
   "cell_type": "code",
   "execution_count": 91,
   "id": "ded7b40f",
   "metadata": {},
   "outputs": [],
   "source": [
    "agente = create_react_agent(\n",
    "    llm=llm,\n",
    "    prompt=prompt_react_pt,\n",
    "    tools=tools)"
   ]
  },
  {
   "cell_type": "code",
   "execution_count": 92,
   "id": "502f10e7",
   "metadata": {},
   "outputs": [],
   "source": [
    "orquestrador = AgentExecutor(agent=agente, tools=tools, verbose=True, handle_parsing_errors=True)"
   ]
  },
  {
   "cell_type": "code",
   "execution_count": 93,
   "id": "bba164c8",
   "metadata": {},
   "outputs": [
    {
     "name": "stdout",
     "output_type": "stream",
     "text": [
      "\n",
      "\n",
      "\u001b[1m> Entering new AgentExecutor chain...\u001b[0m\n",
      "\u001b[32;1m\u001b[1;3mO usuário solicitou um relatório com informações sobre o dataframe. Isso indica que ele quer saber o número de linhas e colunas, os nomes das colunas, os tipos de dados de cada coluna, a quantidade de dados nulos e duplicados. Para isso, posso usar a ferramenta \"Informações DataFrame\".\n",
      "                \n",
      "Action: Informações DataFrame\n",
      "Action Input: df\u001b[0m\u001b[36;1m\u001b[1;3m## Relatório de Informações Gerais sobre o Dataset\n",
      "\n",
      "Este relatório apresenta um resumo das informações gerais do DataFrame fornecido, visando fornecer uma visão clara da estrutura e qualidade dos dados.\n",
      "\n",
      "**1. Dimensão do DataFrame:**\n",
      "\n",
      "O DataFrame possui 43.739 linhas e 16 colunas.\n",
      "\n",
      "**2. Descrição das Colunas:**\n",
      "\n",
      "*   **ID\\_pedido:** (object) - Identificador único de cada pedido.\n",
      "*   **anos\\_experiencia\\_agente:** (int64) - Anos de experiência do agente de entrega.\n",
      "*   **classificacao\\_agente:** (float64) - Classificação do agente de entrega.\n",
      "*   **latitude\\_loja:** (float64) - Latitude da localização da loja.\n",
      "*   **longitude\\_loja:** (float64) - Longitude da localização da loja.\n",
      "*   **latitude\\_entrega:** (float64) - Latitude do local de entrega.\n",
      "*   **longitude\\_entrega:** (float64) - Longitude do local de entrega.\n",
      "*   **data\\_pedido:** (object) - Data em que o pedido foi realizado.\n",
      "*   **hora\\_pedido:** (object) - Hora em que o pedido foi realizado.\n",
      "*   **hora\\_retirada:** (object) - Hora em que o pedido foi retirado para entrega.\n",
      "*   **clima:** (object) - Condição climática no momento do pedido.\n",
      "*   **trafego:** (object) - Nível de tráfego no momento do pedido.\n",
      "*   **veiculo:** (object) - Tipo de veículo utilizado na entrega.\n",
      "*   **area:** (object) - Área geográfica da entrega.\n",
      "*   **categoria\\_produto:** (object) - Categoria do produto entregue.\n",
      "*   **tempo\\_entrega:** (int64) - Tempo total de entrega em minutos.\n",
      "\n",
      "**3. Colunas com Dados Nulos:**\n",
      "\n",
      "*   **classificacao\\_agente:** 54 valores nulos.\n",
      "*   **clima:** 91 valores nulos.\n",
      "*   **trafego:** 91 valores nulos.\n",
      "\n",
      "**4. Colunas com Strings 'nan':**\n",
      "\n",
      "*   **hora\\_pedido:** 91 strings 'nan'.\n",
      "\n",
      "**5. Dados Duplicados:**\n",
      "\n",
      "Não foram encontradas linhas duplicadas no DataFrame.\n",
      "\n",
      "**6. Possíveis Análises:**\n",
      "\n",
      "Com base nesses dados, diversas análises podem ser realizadas para otimizar o processo de entrega e melhorar a experiência do cliente. Algumas sugestões incluem:\n",
      "\n",
      "*   Análise do tempo de entrega em relação a diferentes fatores como clima, tráfego, tipo de veículo e área de entrega.\n",
      "*   Avaliação do impacto da experiência do agente e sua classificação no tempo de entrega e satisfação do cliente.\n",
      "*   Identificação de áreas com maior demanda e otimização da alocação de recursos.\n",
      "*   Análise das categorias de produtos mais populares e seus respectivos tempos de entrega.\n",
      "*   Modelagem preditiva para estimar o tempo de entrega com base em diferentes variáveis.\n",
      "\n",
      "**7. Tratamentos Sugeridos:**\n",
      "\n",
      "Para garantir a qualidade dos dados e a precisão das análises, alguns tratamentos podem ser aplicados:\n",
      "\n",
      "*   **Valores Nulos:** Imputar os valores nulos na coluna \"classificacao\\_agente\" utilizando a média, mediana ou um valor constante. Para as colunas \"clima\" e \"trafego\", pode-se utilizar a moda ou um valor padrão.\n",
      "*   **Strings 'nan':** Tratar as strings 'nan' na coluna \"hora\\_pedido\" convertendo-as para valores nulos (NaN) e, em seguida, imputá-las com base em outras informações disponíveis ou removê-las, caso não seja possível imputar.\n",
      "*   **Tipos de Dados:** Converter as colunas \"data\\_pedido\", \"hora\\_pedido\" e \"hora\\_retirada\" para o tipo datetime para facilitar a manipulação e análise temporal.\n",
      "*   **Outliers:** Identificar e tratar outliers nas colunas numéricas, como \"tempo\\_entrega\", para evitar distorções nas análises.\n",
      "*   **Consistência:** Verificar a consistência dos dados, como a validade das coordenadas geográficas e a relação entre as colunas.\u001b[0m\n",
      "\u001b[32;1m\u001b[1;3m\u001b[0m\n",
      "\n",
      "\u001b[1m> Finished chain.\u001b[0m\n"
     ]
    },
    {
     "data": {
      "text/markdown": [
       "## Relatório de Informações Gerais sobre o Dataset\n",
       "\n",
       "Este relatório apresenta um resumo das informações gerais do DataFrame fornecido, visando fornecer uma visão clara da estrutura e qualidade dos dados.\n",
       "\n",
       "**1. Dimensão do DataFrame:**\n",
       "\n",
       "O DataFrame possui 43.739 linhas e 16 colunas.\n",
       "\n",
       "**2. Descrição das Colunas:**\n",
       "\n",
       "*   **ID\\_pedido:** (object) - Identificador único de cada pedido.\n",
       "*   **anos\\_experiencia\\_agente:** (int64) - Anos de experiência do agente de entrega.\n",
       "*   **classificacao\\_agente:** (float64) - Classificação do agente de entrega.\n",
       "*   **latitude\\_loja:** (float64) - Latitude da localização da loja.\n",
       "*   **longitude\\_loja:** (float64) - Longitude da localização da loja.\n",
       "*   **latitude\\_entrega:** (float64) - Latitude do local de entrega.\n",
       "*   **longitude\\_entrega:** (float64) - Longitude do local de entrega.\n",
       "*   **data\\_pedido:** (object) - Data em que o pedido foi realizado.\n",
       "*   **hora\\_pedido:** (object) - Hora em que o pedido foi realizado.\n",
       "*   **hora\\_retirada:** (object) - Hora em que o pedido foi retirado para entrega.\n",
       "*   **clima:** (object) - Condição climática no momento do pedido.\n",
       "*   **trafego:** (object) - Nível de tráfego no momento do pedido.\n",
       "*   **veiculo:** (object) - Tipo de veículo utilizado na entrega.\n",
       "*   **area:** (object) - Área geográfica da entrega.\n",
       "*   **categoria\\_produto:** (object) - Categoria do produto entregue.\n",
       "*   **tempo\\_entrega:** (int64) - Tempo total de entrega em minutos.\n",
       "\n",
       "**3. Colunas com Dados Nulos:**\n",
       "\n",
       "*   **classificacao\\_agente:** 54 valores nulos.\n",
       "*   **clima:** 91 valores nulos.\n",
       "*   **trafego:** 91 valores nulos.\n",
       "\n",
       "**4. Colunas com Strings 'nan':**\n",
       "\n",
       "*   **hora\\_pedido:** 91 strings 'nan'.\n",
       "\n",
       "**5. Dados Duplicados:**\n",
       "\n",
       "Não foram encontradas linhas duplicadas no DataFrame.\n",
       "\n",
       "**6. Possíveis Análises:**\n",
       "\n",
       "Com base nesses dados, diversas análises podem ser realizadas para otimizar o processo de entrega e melhorar a experiência do cliente. Algumas sugestões incluem:\n",
       "\n",
       "*   Análise do tempo de entrega em relação a diferentes fatores como clima, tráfego, tipo de veículo e área de entrega.\n",
       "*   Avaliação do impacto da experiência do agente e sua classificação no tempo de entrega e satisfação do cliente.\n",
       "*   Identificação de áreas com maior demanda e otimização da alocação de recursos.\n",
       "*   Análise das categorias de produtos mais populares e seus respectivos tempos de entrega.\n",
       "*   Modelagem preditiva para estimar o tempo de entrega com base em diferentes variáveis.\n",
       "\n",
       "**7. Tratamentos Sugeridos:**\n",
       "\n",
       "Para garantir a qualidade dos dados e a precisão das análises, alguns tratamentos podem ser aplicados:\n",
       "\n",
       "*   **Valores Nulos:** Imputar os valores nulos na coluna \"classificacao\\_agente\" utilizando a média, mediana ou um valor constante. Para as colunas \"clima\" e \"trafego\", pode-se utilizar a moda ou um valor padrão.\n",
       "*   **Strings 'nan':** Tratar as strings 'nan' na coluna \"hora\\_pedido\" convertendo-as para valores nulos (NaN) e, em seguida, imputá-las com base em outras informações disponíveis ou removê-las, caso não seja possível imputar.\n",
       "*   **Tipos de Dados:** Converter as colunas \"data\\_pedido\", \"hora\\_pedido\" e \"hora\\_retirada\" para o tipo datetime para facilitar a manipulação e análise temporal.\n",
       "*   **Outliers:** Identificar e tratar outliers nas colunas numéricas, como \"tempo\\_entrega\", para evitar distorções nas análises.\n",
       "*   **Consistência:** Verificar a consistência dos dados, como a validade das coordenadas geográficas e a relação entre as colunas."
      ],
      "text/plain": [
       "<IPython.core.display.Markdown object>"
      ]
     },
     "metadata": {},
     "output_type": "display_data"
    }
   ],
   "source": [
    "resposta = orquestrador.invoke({\"input\": \"Gostaria de um relatório com informações sobre o dataframe\"})\n",
    "display(Markdown(resposta[\"output\"]))"
   ]
  },
  {
   "cell_type": "code",
   "execution_count": 96,
   "id": "6e3fca00",
   "metadata": {},
   "outputs": [
    {
     "name": "stdout",
     "output_type": "stream",
     "text": [
      "\n",
      "\n",
      "\u001b[1m> Entering new AgentExecutor chain...\u001b[0m\n",
      "\u001b[32;1m\u001b[1;3mPara responder à pergunta, preciso primeiro obter as estatísticas descritivas dos dados e, em seguida, identificar a variável com maior impacto no tempo de entrega. Para as estatísticas descritivas, usarei a ferramenta \"Resumo Estatístico\". Para identificar a variável com maior impacto, calcularei a correlação entre as variáveis e o tempo de entrega usando a ferramenta \"Códigos Python\".\n",
      "\n",
      "Action: Resumo Estatístico\n",
      "Action Input: Resumo estatístico completo do dataframe.\u001b[0m\u001b[33;1m\u001b[1;3m## Relatório de Estatísticas Descritivas\n",
      "\n",
      "Este relatório apresenta um resumo das estatísticas descritivas das principais colunas numéricas do nosso conjunto de dados. O objetivo é fornecer uma visão geral das características de cada variável, identificar possíveis outliers e sugerir próximos passos para uma análise mais aprofundada.\n",
      "\n",
      "**Visão Geral das Estatísticas**\n",
      "\n",
      "O DataFrame analisado contém 43.739 observações, com algumas colunas apresentando valores faltantes (como a coluna \"classificacao_agente\"). As estatísticas descritivas fornecem informações sobre a distribuição, dispersão e valores extremos de cada coluna numérica.\n",
      "\n",
      "**Análise Detalhada por Coluna**\n",
      "\n",
      "*   **anos\\_experiencia\\_agente:** A experiência média dos agentes é de aproximadamente 12 anos, com um desvio padrão de 3.11 anos. A experiência varia de 1 ano a 20 anos, indicando uma gama considerável de níveis de experiência na equipe.\n",
      "*   **classificacao\\_agente:** A classificação média dos agentes é de 4.63, numa escala que vai de 1 a 5. O desvio padrão é relativamente baixo (0.33), sugerindo que a maioria dos agentes possui classificações semelhantes. É importante notar que essa coluna possui valores faltantes, o que pode influenciar a análise.\n",
      "*   **latitude\\_loja:** A latitude média das lojas é de 17.21, com um desvio padrão de 7.76. Os valores variam de -30.90 a 30.91, indicando uma distribuição geográfica considerável das lojas.\n",
      "*   **longitude\\_loja:** A longitude média das lojas é de 70.66, com um desvio padrão de 21.48. Os valores variam de -88.37 a 88.43, mostrando uma ampla dispersão longitudinal das lojas.\n",
      "*   **latitude\\_entrega:** A latitude média dos locais de entrega é de 17.46, com um desvio padrão de 7.34. Os valores variam de 0.01 a 31.05. A amplitude dos valores sugere uma área de cobertura de entrega extensa.\n",
      "*   **longitude\\_entrega:** A longitude média dos locais de entrega é de 70.82, com um desvio padrão de 21.15. Os valores variam de 0.01 a 88.56, indicando uma ampla variação longitudinal dos destinos de entrega.\n",
      "*   **tempo\\_entrega:** O tempo médio de entrega é de aproximadamente 124.91 minutos, com um desvio padrão de 51.92 minutos. Os tempos de entrega variam de 10 a 270 minutos.\n",
      "\n",
      "**Identificação de Possíveis Outliers**\n",
      "\n",
      "Com base nos valores mínimos e máximos, algumas colunas podem conter outliers:\n",
      "\n",
      "*   **latitude\\_loja e longitude\\_loja:** Os valores mínimos e máximos extremos podem indicar lojas localizadas em áreas geográficas atípicas.\n",
      "*   **latitude\\_entrega e longitude\\_entrega:** Semelhante às localizações das lojas, os valores extremos podem indicar entregas em áreas geográficas incomuns.\n",
      "*   **tempo\\_entrega:** O tempo máximo de entrega de 270 minutos pode ser considerado um outlier, dependendo do contexto e da política de entrega da empresa.\n",
      "\n",
      "**Recomendações para Próximos Passos**\n",
      "\n",
      "Com base nesta análise inicial, recomendo os seguintes passos:\n",
      "\n",
      "1.  **Tratamento de valores faltantes:** Investigar e tratar os valores faltantes na coluna \"classificacao\\_agente\". As opções incluem imputação (preenchimento com valores estimados) ou remoção das linhas com valores faltantes, dependendo do impacto na análise.\n",
      "2.  **Análise de outliers:** Investigar os possíveis outliers identificados nas colunas de localização e tempo de entrega. Determinar se esses valores são erros de entrada de dados ou representam situações reais que precisam ser consideradas na análise.\n",
      "3.  **Análise de distribuição:** Analisar a distribuição das variáveis usando histogramas e gráficos de densidade para identificar padrões e assimetrias.\n",
      "4.  **Análise de correlação:** Investigar a correlação entre as variáveis para identificar relações significativas que possam influenciar o tempo de entrega ou outros resultados de interesse.\n",
      "5.  **Segmentação:** Segmentar os dados com base em características geográficas, experiência do agente ou outras variáveis relevantes para identificar padrões específicos em diferentes grupos.\n",
      "6.  **Modelagem:** Desenvolver modelos preditivos para estimar o tempo de entrega com base nas características da loja, do agente e do local de entrega.\n",
      "\n",
      "Ao seguir estes passos, será possível obter uma compreensão mais profunda dos dados e identificar oportunidades para otimizar o processo de entrega e melhorar a satisfação do cliente.\u001b[0m\n",
      "\u001b[32;1m\u001b[1;3m\u001b[0m\n",
      "\n",
      "\u001b[1m> Finished chain.\u001b[0m\n"
     ]
    },
    {
     "data": {
      "text/markdown": [
       "## Relatório de Estatísticas Descritivas\n",
       "\n",
       "Este relatório apresenta um resumo das estatísticas descritivas das principais colunas numéricas do nosso conjunto de dados. O objetivo é fornecer uma visão geral das características de cada variável, identificar possíveis outliers e sugerir próximos passos para uma análise mais aprofundada.\n",
       "\n",
       "**Visão Geral das Estatísticas**\n",
       "\n",
       "O DataFrame analisado contém 43.739 observações, com algumas colunas apresentando valores faltantes (como a coluna \"classificacao_agente\"). As estatísticas descritivas fornecem informações sobre a distribuição, dispersão e valores extremos de cada coluna numérica.\n",
       "\n",
       "**Análise Detalhada por Coluna**\n",
       "\n",
       "*   **anos\\_experiencia\\_agente:** A experiência média dos agentes é de aproximadamente 12 anos, com um desvio padrão de 3.11 anos. A experiência varia de 1 ano a 20 anos, indicando uma gama considerável de níveis de experiência na equipe.\n",
       "*   **classificacao\\_agente:** A classificação média dos agentes é de 4.63, numa escala que vai de 1 a 5. O desvio padrão é relativamente baixo (0.33), sugerindo que a maioria dos agentes possui classificações semelhantes. É importante notar que essa coluna possui valores faltantes, o que pode influenciar a análise.\n",
       "*   **latitude\\_loja:** A latitude média das lojas é de 17.21, com um desvio padrão de 7.76. Os valores variam de -30.90 a 30.91, indicando uma distribuição geográfica considerável das lojas.\n",
       "*   **longitude\\_loja:** A longitude média das lojas é de 70.66, com um desvio padrão de 21.48. Os valores variam de -88.37 a 88.43, mostrando uma ampla dispersão longitudinal das lojas.\n",
       "*   **latitude\\_entrega:** A latitude média dos locais de entrega é de 17.46, com um desvio padrão de 7.34. Os valores variam de 0.01 a 31.05. A amplitude dos valores sugere uma área de cobertura de entrega extensa.\n",
       "*   **longitude\\_entrega:** A longitude média dos locais de entrega é de 70.82, com um desvio padrão de 21.15. Os valores variam de 0.01 a 88.56, indicando uma ampla variação longitudinal dos destinos de entrega.\n",
       "*   **tempo\\_entrega:** O tempo médio de entrega é de aproximadamente 124.91 minutos, com um desvio padrão de 51.92 minutos. Os tempos de entrega variam de 10 a 270 minutos.\n",
       "\n",
       "**Identificação de Possíveis Outliers**\n",
       "\n",
       "Com base nos valores mínimos e máximos, algumas colunas podem conter outliers:\n",
       "\n",
       "*   **latitude\\_loja e longitude\\_loja:** Os valores mínimos e máximos extremos podem indicar lojas localizadas em áreas geográficas atípicas.\n",
       "*   **latitude\\_entrega e longitude\\_entrega:** Semelhante às localizações das lojas, os valores extremos podem indicar entregas em áreas geográficas incomuns.\n",
       "*   **tempo\\_entrega:** O tempo máximo de entrega de 270 minutos pode ser considerado um outlier, dependendo do contexto e da política de entrega da empresa.\n",
       "\n",
       "**Recomendações para Próximos Passos**\n",
       "\n",
       "Com base nesta análise inicial, recomendo os seguintes passos:\n",
       "\n",
       "1.  **Tratamento de valores faltantes:** Investigar e tratar os valores faltantes na coluna \"classificacao\\_agente\". As opções incluem imputação (preenchimento com valores estimados) ou remoção das linhas com valores faltantes, dependendo do impacto na análise.\n",
       "2.  **Análise de outliers:** Investigar os possíveis outliers identificados nas colunas de localização e tempo de entrega. Determinar se esses valores são erros de entrada de dados ou representam situações reais que precisam ser consideradas na análise.\n",
       "3.  **Análise de distribuição:** Analisar a distribuição das variáveis usando histogramas e gráficos de densidade para identificar padrões e assimetrias.\n",
       "4.  **Análise de correlação:** Investigar a correlação entre as variáveis para identificar relações significativas que possam influenciar o tempo de entrega ou outros resultados de interesse.\n",
       "5.  **Segmentação:** Segmentar os dados com base em características geográficas, experiência do agente ou outras variáveis relevantes para identificar padrões específicos em diferentes grupos.\n",
       "6.  **Modelagem:** Desenvolver modelos preditivos para estimar o tempo de entrega com base nas características da loja, do agente e do local de entrega.\n",
       "\n",
       "Ao seguir estes passos, será possível obter uma compreensão mais profunda dos dados e identificar oportunidades para otimizar o processo de entrega e melhorar a satisfação do cliente."
      ],
      "text/plain": [
       "<IPython.core.display.Markdown object>"
      ]
     },
     "metadata": {},
     "output_type": "display_data"
    }
   ],
   "source": [
    "resposta_2 = orquestrador.invoke({\"input\": \"quero saber as estatísticas descritivas dos dados,e qual a variável com maior impacto no tempo de entrega\"})\n",
    "display(Markdown(resposta_2[\"output\"]))"
   ]
  },
  {
   "cell_type": "code",
   "execution_count": 97,
   "id": "ae1c2f07",
   "metadata": {},
   "outputs": [
    {
     "name": "stdout",
     "output_type": "stream",
     "text": [
      "\n",
      "\n",
      "\u001b[1m> Entering new AgentExecutor chain...\u001b[0m\n",
      "\u001b[32;1m\u001b[1;3mO usuário está perguntando sobre uma estatística específica (a média do tempo de entrega). Portanto, devo usar a ferramenta `Códigos Python` para calcular essa média diretamente do DataFrame.\n",
      "Action: Códigos Python\n",
      "Action Input: ```python\n",
      "df['tempo_entrega'].mean()\n",
      "```\u001b[0m\u001b[36;1m\u001b[1;3m124.90564484784746\u001b[0m\u001b[32;1m\u001b[1;3mAgora eu sei a resposta final.\n",
      "Final Answer: A média do tempo de entrega é 124.91.\n",
      "\u001b[0m\n",
      "\n",
      "\u001b[1m> Finished chain.\u001b[0m\n"
     ]
    },
    {
     "data": {
      "text/plain": [
       "{'input': 'Qual é a média do tempo de entrega?',\n",
       " 'output': 'A média do tempo de entrega é 124.91.'}"
      ]
     },
     "execution_count": 97,
     "metadata": {},
     "output_type": "execute_result"
    }
   ],
   "source": [
    "orquestrador.invoke({\"input\": \"Qual é a média do tempo de entrega?\"})"
   ]
  }
 ],
 "metadata": {
  "kernelspec": {
   "display_name": "venv",
   "language": "python",
   "name": "python3"
  },
  "language_info": {
   "codemirror_mode": {
    "name": "ipython",
    "version": 3
   },
   "file_extension": ".py",
   "mimetype": "text/x-python",
   "name": "python",
   "nbconvert_exporter": "python",
   "pygments_lexer": "ipython3",
   "version": "3.12.4"
  }
 },
 "nbformat": 4,
 "nbformat_minor": 5
}
