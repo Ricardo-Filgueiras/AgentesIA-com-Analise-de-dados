{
 "cells": [
  {
   "cell_type": "markdown",
   "id": "7c7220ee",
   "metadata": {},
   "source": [
    "# Carregando e visualizando dados no Google Colab"
   ]
  },
  {
   "cell_type": "markdown",
   "id": "005273c7",
   "metadata": {},
   "source": [
    "Vamos começar entendendo como um LLM (grande modelo de linguagem) pode nos auxiliar, por exemplo, gerando um código para analisar um arquivo. Iniciaremos no Google Colab carregando os dados da empresa. Para isso, importaremos a biblioteca Pandas, voltada para análise de dados, com o comando:"
   ]
  },
  {
   "cell_type": "code",
   "execution_count": 1,
   "id": "ea640272",
   "metadata": {},
   "outputs": [],
   "source": [
    "import pandas as pd"
   ]
  },
  {
   "cell_type": "code",
   "execution_count": 9,
   "id": "b0241a87",
   "metadata": {},
   "outputs": [],
   "source": [
    "df = pd.read_csv(r'C:\\Users\\Campeao Lub\\OneDrive - Campeão Distribuição e Logística Ltda\\Documentos\\GitHub\\AgentesIA-com-Analise-de-dados\\database\\dados_entregas.csv')"
   ]
  },
  {
   "cell_type": "code",
   "execution_count": 10,
   "id": "b13a3f21",
   "metadata": {},
   "outputs": [
    {
     "data": {
      "text/html": [
       "<div>\n",
       "<style scoped>\n",
       "    .dataframe tbody tr th:only-of-type {\n",
       "        vertical-align: middle;\n",
       "    }\n",
       "\n",
       "    .dataframe tbody tr th {\n",
       "        vertical-align: top;\n",
       "    }\n",
       "\n",
       "    .dataframe thead th {\n",
       "        text-align: right;\n",
       "    }\n",
       "</style>\n",
       "<table border=\"1\" class=\"dataframe\">\n",
       "  <thead>\n",
       "    <tr style=\"text-align: right;\">\n",
       "      <th></th>\n",
       "      <th>ID_pedido</th>\n",
       "      <th>anos_experiencia_agente</th>\n",
       "      <th>classificacao_agente</th>\n",
       "      <th>latitude_loja</th>\n",
       "      <th>longitude_loja</th>\n",
       "      <th>latitude_entrega</th>\n",
       "      <th>longitude_entrega</th>\n",
       "      <th>data_pedido</th>\n",
       "      <th>hora_pedido</th>\n",
       "      <th>hora_retirada</th>\n",
       "      <th>clima</th>\n",
       "      <th>trafego</th>\n",
       "      <th>veiculo</th>\n",
       "      <th>area</th>\n",
       "      <th>categoria_produto</th>\n",
       "      <th>tempo_entrega</th>\n",
       "    </tr>\n",
       "  </thead>\n",
       "  <tbody>\n",
       "    <tr>\n",
       "      <th>0</th>\n",
       "      <td>ialx566343618</td>\n",
       "      <td>8</td>\n",
       "      <td>4.9</td>\n",
       "      <td>22.745049</td>\n",
       "      <td>75.892471</td>\n",
       "      <td>22.765049</td>\n",
       "      <td>75.912471</td>\n",
       "      <td>2022-03-19</td>\n",
       "      <td>11:30:00</td>\n",
       "      <td>11:45:00</td>\n",
       "      <td>Ensolarado</td>\n",
       "      <td>Alto</td>\n",
       "      <td>Motocicleta</td>\n",
       "      <td>Urbano</td>\n",
       "      <td>Roupas</td>\n",
       "      <td>120</td>\n",
       "    </tr>\n",
       "    <tr>\n",
       "      <th>1</th>\n",
       "      <td>akqg208421122</td>\n",
       "      <td>10</td>\n",
       "      <td>4.5</td>\n",
       "      <td>12.913041</td>\n",
       "      <td>77.683237</td>\n",
       "      <td>13.043041</td>\n",
       "      <td>77.813237</td>\n",
       "      <td>2022-03-25</td>\n",
       "      <td>19:45:00</td>\n",
       "      <td>19:50:00</td>\n",
       "      <td>Chuvoso</td>\n",
       "      <td>Congestionamento</td>\n",
       "      <td>Scooter</td>\n",
       "      <td>Metropolitano</td>\n",
       "      <td>Eletronicos</td>\n",
       "      <td>165</td>\n",
       "    </tr>\n",
       "    <tr>\n",
       "      <th>2</th>\n",
       "      <td>njpu434582536</td>\n",
       "      <td>16</td>\n",
       "      <td>4.4</td>\n",
       "      <td>12.914264</td>\n",
       "      <td>77.678400</td>\n",
       "      <td>12.924264</td>\n",
       "      <td>77.688400</td>\n",
       "      <td>2022-03-19</td>\n",
       "      <td>08:30:00</td>\n",
       "      <td>08:45:00</td>\n",
       "      <td>Tempestade</td>\n",
       "      <td>Baixo</td>\n",
       "      <td>Motocicleta</td>\n",
       "      <td>Urbano</td>\n",
       "      <td>Esportes</td>\n",
       "      <td>130</td>\n",
       "    </tr>\n",
       "  </tbody>\n",
       "</table>\n",
       "</div>"
      ],
      "text/plain": [
       "       ID_pedido  anos_experiencia_agente  classificacao_agente  \\\n",
       "0  ialx566343618                        8                   4.9   \n",
       "1  akqg208421122                       10                   4.5   \n",
       "2  njpu434582536                       16                   4.4   \n",
       "\n",
       "   latitude_loja  longitude_loja  latitude_entrega  longitude_entrega  \\\n",
       "0      22.745049       75.892471         22.765049          75.912471   \n",
       "1      12.913041       77.683237         13.043041          77.813237   \n",
       "2      12.914264       77.678400         12.924264          77.688400   \n",
       "\n",
       "  data_pedido hora_pedido hora_retirada       clima           trafego  \\\n",
       "0  2022-03-19    11:30:00      11:45:00  Ensolarado              Alto   \n",
       "1  2022-03-25    19:45:00      19:50:00     Chuvoso  Congestionamento   \n",
       "2  2022-03-19    08:30:00      08:45:00  Tempestade             Baixo   \n",
       "\n",
       "       veiculo           area categoria_produto  tempo_entrega  \n",
       "0  Motocicleta         Urbano            Roupas            120  \n",
       "1      Scooter  Metropolitano       Eletronicos            165  \n",
       "2  Motocicleta         Urbano          Esportes            130  "
      ]
     },
     "execution_count": 10,
     "metadata": {},
     "output_type": "execute_result"
    }
   ],
   "source": [
    "df.head(n=3)"
   ]
  }
 ],
 "metadata": {
  "kernelspec": {
   "display_name": "venv",
   "language": "python",
   "name": "python3"
  },
  "language_info": {
   "codemirror_mode": {
    "name": "ipython",
    "version": 3
   },
   "file_extension": ".py",
   "mimetype": "text/x-python",
   "name": "python",
   "nbconvert_exporter": "python",
   "pygments_lexer": "ipython3",
   "version": "3.12.4"
  }
 },
 "nbformat": 4,
 "nbformat_minor": 5
}
